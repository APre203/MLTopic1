{
  "cells": [
    {
      "cell_type": "markdown",
      "metadata": {
        "id": "view-in-github",
        "colab_type": "text"
      },
      "source": [
        "<a href=\"https://colab.research.google.com/github/APre203/MLTopic1/blob/main/StutterClassification-CNN-SVM.ipynb\" target=\"_parent\"><img src=\"https://colab.research.google.com/assets/colab-badge.svg\" alt=\"Open In Colab\"/></a>"
      ]
    },
    {
      "cell_type": "code",
      "execution_count": 1,
      "metadata": {
        "colab": {
          "base_uri": "https://localhost:8080/"
        },
        "id": "rFfxptau54Q3",
        "outputId": "29dac966-9b7e-4b4f-c212-7539c8f68720"
      },
      "outputs": [
        {
          "output_type": "stream",
          "name": "stdout",
          "text": [
            "Mounted at /content/drive\n"
          ]
        }
      ],
      "source": [
        "from google.colab import drive\n",
        "drive.mount('/content/drive')\n"
      ]
    },
    {
      "cell_type": "code",
      "execution_count": 2,
      "metadata": {
        "colab": {
          "base_uri": "https://localhost:8080/"
        },
        "id": "m77GTo-5ZnBq",
        "outputId": "261e1d40-4fdc-42e6-9c57-88cf6678a469"
      },
      "outputs": [
        {
          "output_type": "stream",
          "name": "stdout",
          "text": [
            "Collecting pydub\n",
            "  Downloading pydub-0.25.1-py2.py3-none-any.whl (32 kB)\n",
            "Installing collected packages: pydub\n",
            "Successfully installed pydub-0.25.1\n"
          ]
        }
      ],
      "source": [
        "pip install pydub"
      ]
    },
    {
      "cell_type": "markdown",
      "metadata": {
        "id": "L6nNZwEAW0sZ"
      },
      "source": [
        "### Downloaded Full Audio Files"
      ]
    },
    {
      "cell_type": "code",
      "execution_count": 3,
      "metadata": {
        "id": "E4lfAiA1Ze06"
      },
      "outputs": [],
      "source": [
        "import os\n",
        "import pathlib\n",
        "import requests\n",
        "# from pydub import AudioSegment\n",
        "from pydub import AudioSegment\n",
        "import numpy as np\n",
        "import argparse\n",
        "\n",
        "def wav_converter(episodes, wavs):\n",
        "\n",
        "  episode_uri = episodes\n",
        "  wav_dir = wavs\n",
        "\n",
        "  # Load episode data\n",
        "  table = np.loadtxt(episode_uri, dtype=str, delimiter=',')\n",
        "\n",
        "  urls = table[:, 2]\n",
        "  n_items = len(urls)\n",
        "\n",
        "  audio_types = [\".mp3\", \".m4a\", \".mp4\"]\n",
        "\n",
        "  for i in range(n_items):\n",
        "      # Get show/episode IDs\n",
        "      show_abrev = table[i, -2].strip()\n",
        "      ep_idx = table[i, -1]\n",
        "      episode_url = table[i, 2]\n",
        "      # print(episode_url, ep_idx, show_abrev) # (https://media.talkbank.org/fluency/Voices-AWS/interview/46ma.mp4  010  FluencyBank)\n",
        "\n",
        "      # Check file extension\n",
        "      ext = ''\n",
        "      for ext in audio_types:\n",
        "          if ext in episode_url:\n",
        "              break\n",
        "\n",
        "      # Ensure the base folder exists for this episode\n",
        "      episode_dir = pathlib.Path(f\"{wav_dir}/{show_abrev}/\")\n",
        "      # print(episode_dir)\n",
        "      os.makedirs(episode_dir, exist_ok=True)\n",
        "\n",
        "      # Get file paths\n",
        "      audio_path_orig = pathlib.Path(f\"{episode_dir}/{ep_idx}{ext}\")\n",
        "      wav_path = pathlib.Path(f\"{episode_dir}/{ep_idx}.wav\")\n",
        "      # print(audio_path_orig, wav_path) #\"C:\\Users\\andrew\\Downloads\\ml-stuttering-events-dataset\\wav\\ FluencyBank\\ 010.mp4\"\n",
        "\n",
        "      # Download raw audio file\n",
        "      if not os.path.exists(audio_path_orig):\n",
        "          response = requests.get(episode_url)\n",
        "          with open(audio_path_orig, 'wb') as audio_file:\n",
        "              audio_file.write(response.content)\n",
        "\n",
        "      # Convert to 16khz mono wav file\n",
        "      # print(audio_path_orig)\n",
        "      audio = AudioSegment.from_file(audio_path_orig) #error here\n",
        "      audio = audio.set_frame_rate(16000).set_channels(1)\n",
        "      audio.export(wav_path, format=\"wav\")\n",
        "\n",
        "      os.remove(audio_path_orig)"
      ]
    },
    {
      "cell_type": "code",
      "execution_count": 4,
      "metadata": {
        "id": "jYc1dergbBK_"
      },
      "outputs": [],
      "source": [
        "wav_converter(\"/content/drive/MyDrive/ml-stuttering-events-dataset/fluencybank_episodes2.csv\", \"wav\")"
      ]
    },
    {
      "cell_type": "markdown",
      "metadata": {
        "id": "gPiU__v1W8lP"
      },
      "source": [
        "### Divided Audio Files Into 3 Second Clips"
      ]
    },
    {
      "cell_type": "code",
      "execution_count": 5,
      "metadata": {
        "id": "2KJZvCw-dhER"
      },
      "outputs": [],
      "source": [
        "\n",
        "import os\n",
        "import pathlib\n",
        "import subprocess\n",
        "\n",
        "import numpy as np\n",
        "import pandas as pd\n",
        "from scipy.io import wavfile\n",
        "\n",
        "import argparse\n",
        "def clip_maker(labels, wavs, clips):\n",
        "\n",
        "  label_file = labels\n",
        "  data_dir = wavs\n",
        "  output_dir = clips\n",
        "\n",
        "\n",
        "  # Load label/clip file\n",
        "  data = pd.read_csv(label_file, dtype={\"EpId\":str})\n",
        "\n",
        "  # Get label columns from data file\n",
        "  shows = data.Show\n",
        "  episodes = data.EpId\n",
        "  clip_idxs = data.ClipId\n",
        "  starts = data.Start\n",
        "  stops = data.Stop\n",
        "  labels = data.iloc[:,5:].values\n",
        "\n",
        "  n_items = len(shows)\n",
        "\n",
        "  loaded_wav = \"\"\n",
        "  cur_iter = range(n_items)\n",
        "  for i in cur_iter:\n",
        "    clip_idx = clip_idxs[i]\n",
        "    show_abrev = shows[i]\n",
        "    episode = episodes[i].strip()\n",
        "\n",
        "    # Setup paths\n",
        "    wav_path = f\"{data_dir}/{shows[i]}/{episode}.wav\"\n",
        "    # print(wav_path)\n",
        "    clip_dir = pathlib.Path(f\"{output_dir}/{show_abrev}/{episode}/\")\n",
        "    clip_path = f\"{clip_dir}/{shows[i]}_{episode}_{clip_idx}.wav\"\n",
        "\n",
        "    if not os.path.exists(wav_path):\n",
        "      print(\"Missing\", wav_path)\n",
        "      continue\n",
        "\n",
        "    # Verify clip directory exists\n",
        "    os.makedirs(clip_dir, exist_ok=True)\n",
        "\n",
        "    # Load audio. For efficiency reasons don't reload if we've already open the file.\n",
        "    if wav_path != loaded_wav:\n",
        "      sample_rate, audio = wavfile.read(wav_path)\n",
        "      assert sample_rate == 16000, \"Sample rate must be 16 khz\"\n",
        "\n",
        "      # Keep track of the open file\n",
        "      loaded_wav = wav_path\n",
        "\n",
        "    # Save clip to file\n",
        "    clip = audio[starts[i]:stops[i]]\n",
        "    wavfile.write(clip_path, sample_rate, clip)\n"
      ]
    },
    {
      "cell_type": "code",
      "execution_count": 6,
      "metadata": {
        "id": "laiROH50eMEO"
      },
      "outputs": [],
      "source": [
        "clip_maker(\"/content/drive/MyDrive/ml-stuttering-events-dataset/fluencybank_labels2.csv\", \"wav\", \"clips\")"
      ]
    },
    {
      "cell_type": "markdown",
      "metadata": {
        "id": "d0CTjWCCXCT7"
      },
      "source": [
        "### Building Model Section / Preprocessing"
      ]
    },
    {
      "cell_type": "code",
      "source": [
        "import librosa\n",
        "import librosa.feature\n",
        "import soundfile as sf\n",
        "import math\n",
        "import tensorflow as tf"
      ],
      "metadata": {
        "id": "zMJ7TM8zkVng"
      },
      "execution_count": 14,
      "outputs": []
    },
    {
      "cell_type": "code",
      "source": [
        "def mel_spectrogram(y,sr):\n",
        "  window_size = 2048\n",
        "  hop_length = 512\n",
        "  # load audio file\n",
        "  mel_spectrogram = librosa.feature.melspectrogram(y=y, sr=sr, n_fft=window_size, hop_length=hop_length, n_mels=90, center=\"True\")\n",
        "\n",
        "  log_mel_spectrogram = tf.expand_dims(librosa.power_to_db(mel_spectrogram), axis=2)\n",
        "  return log_mel_spectrogram"
      ],
      "metadata": {
        "id": "_8Gh6RItjio7"
      },
      "execution_count": 8,
      "outputs": []
    },
    {
      "cell_type": "code",
      "source": [
        "def mfcc_converter(y, sr):\n",
        "  mfccs = np.mean(librosa.feature.mfcc(y=y, sr=sr, n_mfcc=50).T, axis=0)\n",
        "  delta_mfccs = librosa.feature.delta(mfccs)\n",
        "  delta2_mfccs = librosa.feature.delta(mfccs, order=2)\n",
        "  # return np.concatenate((mfccs,delta_mfccs,delta2_mfccs))\n",
        "  return mfccs"
      ],
      "metadata": {
        "id": "j1JYOybfkGaY"
      },
      "execution_count": 9,
      "outputs": []
    },
    {
      "cell_type": "code",
      "source": [
        "csv_file = \"/content/drive/MyDrive/ml-stuttering-events-dataset/fluencybank_labels2.csv\" #create dataframe for testing file\n",
        "csv_df = pd.read_csv(csv_file, delimiter=\",\", encoding='utf-8')"
      ],
      "metadata": {
        "id": "z86mepEjkfMg"
      },
      "execution_count": 10,
      "outputs": []
    },
    {
      "cell_type": "code",
      "execution_count": 11,
      "metadata": {
        "id": "_lnxnv6EWP9Z"
      },
      "outputs": [],
      "source": [
        "\n",
        "# p = \"/content/clips/FluencyBank/10/\"\n",
        "\n",
        "def file_to_df(csv, clip_filename):\n",
        "\n",
        "  # new_df = pd.DataFrame(columns=df.columns)  # Create an empty DataFrame\n",
        "  new_df = pd.DataFrame(columns=csv_df.columns)\n",
        "  n = 0  # Initialize a counter\n",
        "  for index, row in csv.iterrows():\n",
        "\n",
        "    # find each wav file\n",
        "    path_name = f'{row[\"Show\"]}_{row[\"EpId\"]}_{row[\"ClipId\"]}.wav'\n",
        "    p = f'/content/{clip_filename}/FluencyBank/{row[\"EpId\"]}/'\n",
        "    y, sr = sf.read(p + path_name)\n",
        "\n",
        "    # calculate spectro and mfcc for the wav fiel\n",
        "    spectro = mel_spectrogram(y,sr)\n",
        "    mfcc = mfcc_converter(y,sr)\n",
        "\n",
        "    if row[\"NoStutteredWords\"] >= 2:\n",
        "      row[\"Stutter\"] = 0 # didnt stutter\n",
        "    else:\n",
        "      row[\"Stutter\"] = 1 # did stutter\n",
        "    row[\"spect\"] = spectro\n",
        "    row[\"mfcc\"] = mfcc\n",
        "    new_df = new_df.append(row, ignore_index=True)  # Append the new row to the new DataFrame TRY CHANGEING IT TO pd.concat\n",
        "    retval_df = new_df\n",
        "\n",
        "  return retval_df\n",
        "\n",
        "def balanced(df): # 0 -> didnt stutter -- 1 -> stutter\n",
        "  count_stutter_0 = len(df[df[\"Stutter\"] == 0])\n",
        "  count_stutter_1 = len(df[df[\"Stutter\"] == 1])\n",
        "  number = min(count_stutter_0,count_stutter_1) # number of min(stutters,no-stutters)\n",
        "\n",
        "  balanced_df_stutter_0 = df[df[\"Stutter\"] == 0].sample(n=math.ceil(number))\n",
        "  balanced_df_stutter_1 = df[df[\"Stutter\"] == 1].sample(n=number)\n",
        "  retval_balanced = pd.concat([balanced_df_stutter_0, balanced_df_stutter_1])\n",
        "  return retval_balanced"
      ]
    },
    {
      "cell_type": "code",
      "execution_count": null,
      "metadata": {
        "id": "TdDhRnySLQ6f"
      },
      "outputs": [],
      "source": [
        "csv_sample = file_to_df(csv_df, \"clips\")"
      ]
    },
    {
      "cell_type": "code",
      "source": [
        "balanced_dataset = balanced(csv_sample) ### ???"
      ],
      "metadata": {
        "id": "bCBTHMdeaovh"
      },
      "execution_count": 16,
      "outputs": []
    },
    {
      "cell_type": "code",
      "execution_count": 17,
      "metadata": {
        "id": "LN6Ft6D58M8Z"
      },
      "outputs": [],
      "source": [
        "from numpy.lib.function_base import average\n",
        "import cv2\n",
        "\n",
        "desired_length = 94\n",
        "\n",
        "resized_spectrograms = []\n",
        "resized_mfccs = []\n",
        "labels = []\n",
        "\n",
        "for spectrogram,mfcc, stut in zip(balanced_dataset[\"spect\"], balanced_dataset[\"mfcc\"], balanced_dataset[\"Stutter\"]):\n",
        "\n",
        "    # made sure all shapes are the same size\n",
        "    data_resized = np.zeros((90, 94, 1))\n",
        "    data_resized[:, :spectrogram.shape[1], :] = spectrogram\n",
        "\n",
        "    resized_spectrograms.append(data_resized)\n",
        "    # print(spectrogram.shape, data_resized.shape)\n",
        "    # print(spectrogram.shape)\n",
        "    resized_mfccs.append(mfcc)\n",
        "    labels.append(stut)\n",
        "\n",
        "\n",
        "data = np.array(resized_spectrograms)\n",
        "mfcc_data = np.array(resized_mfccs)\n",
        "\n",
        "labels = np.array(labels)\n",
        "\n"
      ]
    },
    {
      "cell_type": "code",
      "execution_count": 18,
      "metadata": {
        "id": "TPvnbTRe8PTb"
      },
      "outputs": [],
      "source": [
        "from sklearn.model_selection import train_test_split\n",
        "X_train_spec, X_test_spec, y_train_spec, y_test_spec = train_test_split(data, labels, test_size=0.2, random_state=42)\n",
        "X_train_mfcc, X_test_mfcc, y_train_mfcc, y_test_mfcc = train_test_split(mfcc_data, labels, test_size=0.2, random_state=42)"
      ]
    },
    {
      "cell_type": "code",
      "source": [
        "print(X_train_spec.shape)"
      ],
      "metadata": {
        "colab": {
          "base_uri": "https://localhost:8080/"
        },
        "id": "FHgREdjWHh91",
        "outputId": "49bf35a3-b775-4cf0-e634-65a354f9ec3d"
      },
      "execution_count": 39,
      "outputs": [
        {
          "output_type": "stream",
          "name": "stdout",
          "text": [
            "(1796, 90, 94, 1)\n"
          ]
        }
      ]
    },
    {
      "cell_type": "markdown",
      "source": [
        "### Build CNN Model"
      ],
      "metadata": {
        "id": "SUCOf_1jVev5"
      }
    },
    {
      "cell_type": "code",
      "source": [
        "from tensorflow.keras.models import Sequential\n",
        "from tensorflow.keras.layers import Conv2D, Dense, Flatten, Input\n",
        "\n",
        "\n",
        "model_cnn = Sequential()\n",
        "model_cnn.add(Input(shape=(90, 94, 1)))\n",
        "model_cnn.add(Conv2D(16, (3,3), activation='relu')) #, input_shape=(90, 94, 1)\n",
        "model_cnn.add(Conv2D(16, (3,3), activation='relu'))\n",
        "model_cnn.add(Flatten())\n",
        "model_cnn.add(Dense(128, activation='relu'))\n",
        "model_cnn.add(Dense(1, activation='sigmoid'))\n",
        "\n",
        "model_cnn.compile('adam', loss='binary_crossentropy', metrics=[tf.keras.metrics.Recall(),tf.keras.metrics.Precision()])\n",
        "\n",
        "hist = model_cnn.fit(X_train_spec, y_train_spec, epochs=13, validation_data=(X_test_spec, y_test_spec))\n",
        "\n",
        "model_cnn.summary()"
      ],
      "metadata": {
        "colab": {
          "base_uri": "https://localhost:8080/"
        },
        "id": "YrCEMMBsHfB_",
        "outputId": "66880c9b-6cf0-41f8-a30f-19a788fcb598"
      },
      "execution_count": 73,
      "outputs": [
        {
          "output_type": "stream",
          "name": "stdout",
          "text": [
            "Epoch 1/13\n",
            "57/57 [==============================] - 36s 560ms/step - loss: 17.6298 - recall_2: 0.5578 - precision_2: 0.5457 - val_loss: 0.6899 - val_recall_2: 0.7175 - val_precision_2: 0.5316\n",
            "Epoch 2/13\n",
            "57/57 [==============================] - 31s 551ms/step - loss: 0.4834 - recall_2: 0.8633 - precision_2: 0.8035 - val_loss: 0.7442 - val_recall_2: 0.6771 - val_precision_2: 0.5992\n",
            "Epoch 3/13\n",
            "57/57 [==============================] - 38s 668ms/step - loss: 0.1787 - recall_2: 0.9400 - precision_2: 0.9369 - val_loss: 0.9548 - val_recall_2: 0.6726 - val_precision_2: 0.5535\n",
            "Epoch 4/13\n",
            "57/57 [==============================] - 35s 618ms/step - loss: 0.0343 - recall_2: 0.9944 - precision_2: 0.9967 - val_loss: 1.2789 - val_recall_2: 0.6278 - val_precision_2: 0.6009\n",
            "Epoch 5/13\n",
            "57/57 [==============================] - 32s 561ms/step - loss: 0.0048 - recall_2: 1.0000 - precision_2: 1.0000 - val_loss: 1.5110 - val_recall_2: 0.6637 - val_precision_2: 0.5873\n",
            "Epoch 6/13\n",
            "57/57 [==============================] - 32s 562ms/step - loss: 0.0026 - recall_2: 1.0000 - precision_2: 1.0000 - val_loss: 1.5818 - val_recall_2: 0.6547 - val_precision_2: 0.5748\n",
            "Epoch 7/13\n",
            "57/57 [==============================] - 32s 556ms/step - loss: 7.0212e-04 - recall_2: 1.0000 - precision_2: 1.0000 - val_loss: 1.7584 - val_recall_2: 0.6368 - val_precision_2: 0.5992\n",
            "Epoch 8/13\n",
            "57/57 [==============================] - 34s 599ms/step - loss: 3.1291e-04 - recall_2: 1.0000 - precision_2: 1.0000 - val_loss: 1.8626 - val_recall_2: 0.6188 - val_precision_2: 0.6026\n",
            "Epoch 9/13\n",
            "57/57 [==============================] - 32s 565ms/step - loss: 1.9292e-04 - recall_2: 1.0000 - precision_2: 1.0000 - val_loss: 1.9276 - val_recall_2: 0.6457 - val_precision_2: 0.6025\n",
            "Epoch 10/13\n",
            "57/57 [==============================] - 33s 579ms/step - loss: 1.2706e-04 - recall_2: 1.0000 - precision_2: 1.0000 - val_loss: 1.9858 - val_recall_2: 0.6188 - val_precision_2: 0.6106\n",
            "Epoch 11/13\n",
            "57/57 [==============================] - 32s 556ms/step - loss: 9.1331e-05 - recall_2: 1.0000 - precision_2: 1.0000 - val_loss: 2.0297 - val_recall_2: 0.6323 - val_precision_2: 0.6104\n",
            "Epoch 12/13\n",
            "57/57 [==============================] - 35s 623ms/step - loss: 6.8423e-05 - recall_2: 1.0000 - precision_2: 1.0000 - val_loss: 2.0711 - val_recall_2: 0.6233 - val_precision_2: 0.6070\n",
            "Epoch 13/13\n",
            "57/57 [==============================] - 32s 560ms/step - loss: 5.1607e-05 - recall_2: 1.0000 - precision_2: 1.0000 - val_loss: 2.1155 - val_recall_2: 0.6143 - val_precision_2: 0.6009\n",
            "Model: \"sequential_2\"\n",
            "_________________________________________________________________\n",
            " Layer (type)                Output Shape              Param #   \n",
            "=================================================================\n",
            " conv2d_4 (Conv2D)           (None, 88, 92, 16)        160       \n",
            "                                                                 \n",
            " conv2d_5 (Conv2D)           (None, 86, 90, 16)        2320      \n",
            "                                                                 \n",
            " flatten_2 (Flatten)         (None, 123840)            0         \n",
            "                                                                 \n",
            " dense_4 (Dense)             (None, 128)               15851648  \n",
            "                                                                 \n",
            " dense_5 (Dense)             (None, 1)                 129       \n",
            "                                                                 \n",
            "=================================================================\n",
            "Total params: 15854257 (60.48 MB)\n",
            "Trainable params: 15854257 (60.48 MB)\n",
            "Non-trainable params: 0 (0.00 Byte)\n",
            "_________________________________________________________________\n"
          ]
        }
      ]
    },
    {
      "cell_type": "markdown",
      "source": [
        "### Build SVM Model"
      ],
      "metadata": {
        "id": "EmLEpi_4VkzF"
      }
    },
    {
      "cell_type": "code",
      "source": [
        "from sklearn.metrics import classification_report\n",
        "from sklearn import svm\n",
        "from sklearn.metrics import accuracy_score\n",
        "\n",
        "model_svm = svm.SVC(kernel='linear') #'linear', 'sigmoid', 'precomputed', 'poly', 'rbf'\n",
        "model_svm.fit(X_train_mfcc, y_train_mfcc)\n",
        "\n",
        "y_pred_mfcc = model_svm.predict(X_test_mfcc)\n",
        "\n",
        "print(classification_report(y_test_mfcc, y_pred_mfcc))\n",
        "\n",
        "# accuracy = accuracy_score(y_test_mfcc, y_pred_mfcc)\n",
        "\n"
      ],
      "metadata": {
        "colab": {
          "base_uri": "https://localhost:8080/"
        },
        "id": "I3R1YPUeVj3Z",
        "outputId": "095d4e77-296f-49f7-878a-85550e099564"
      },
      "execution_count": 20,
      "outputs": [
        {
          "output_type": "stream",
          "name": "stdout",
          "text": [
            "              precision    recall  f1-score   support\n",
            "\n",
            "         0.0       0.63      0.73      0.68       227\n",
            "         1.0       0.67      0.57      0.62       223\n",
            "\n",
            "    accuracy                           0.65       450\n",
            "   macro avg       0.65      0.65      0.65       450\n",
            "weighted avg       0.65      0.65      0.65       450\n",
            "\n"
          ]
        }
      ]
    },
    {
      "cell_type": "markdown",
      "metadata": {
        "id": "ToVIRHfG_Kx0"
      },
      "source": [
        "### Converting Test Cases"
      ]
    },
    {
      "cell_type": "code",
      "execution_count": 21,
      "metadata": {
        "id": "-NSmdhzz-4fK"
      },
      "outputs": [],
      "source": [
        "wav_converter(\"/content/drive/MyDrive/ml-stuttering-events-dataset/fluencybank_episodes_test.csv\", \"test\")\n",
        "clip_maker(\"/content/drive/MyDrive/ml-stuttering-events-dataset/fluencybank_labels_test.csv\", \"test\", \"test_clips\")"
      ]
    },
    {
      "cell_type": "markdown",
      "metadata": {
        "id": "LMy_eL6J_P1f"
      },
      "source": [
        "### Testing Test Cases"
      ]
    },
    {
      "cell_type": "code",
      "execution_count": 74,
      "metadata": {
        "id": "lasNH90PAD4c"
      },
      "outputs": [],
      "source": [
        "def didnt_or_did(n1,n2): # 0 for noStutter 1 for Stutter\n",
        "  if n1 > n2:\n",
        "    return 0\n",
        "  return 1"
      ]
    },
    {
      "cell_type": "code",
      "execution_count": null,
      "metadata": {
        "id": "hOWEOWgm8TTL"
      },
      "outputs": [],
      "source": [
        "test_file = \"/content/drive/MyDrive/ml-stuttering-events-dataset/fluencybank_labels_test.csv\"\n",
        "test_df = pd.read_csv(test_file, delimiter=\",\", encoding='utf-8')\n",
        "test_sample = file_to_df(test_df, \"test_clips\") #2nd parameter doesnt matter total tests about 600 results"
      ]
    },
    {
      "cell_type": "code",
      "source": [
        "def test_svm(test_sample, model):\n",
        "  y_true = []\n",
        "  y_pred = []\n",
        "  for mfcc, stutter in zip(test_sample[\"mfcc\"], test_sample[\"Stutter\"]):\n",
        "    predicted = model.predict(mfcc.reshape(1, -1)) #array.reshape(1, -1)\n",
        "    y_true.append(stutter)\n",
        "    y_pred.append(predicted)\n",
        "  return [y_true, y_pred]"
      ],
      "metadata": {
        "id": "3i65ATqdvUGX"
      },
      "execution_count": 24,
      "outputs": []
    },
    {
      "cell_type": "code",
      "source": [
        "def test_cnn(test_sample, model):\n",
        "  y_true = []\n",
        "  y_pred = []\n",
        "  total_spect = []\n",
        "  for spect, stutter in zip(test_sample[\"spect\"], test_sample[\"Stutter\"]):\n",
        "    width, height = 128, 128\n",
        "    # print(sum(spect))\n",
        "    data_resized = np.zeros((1, 90, 94, 1))\n",
        "    data_resized[:, :, :spect.shape[1], :] = spect\n",
        "    resized_spectrogram = data_resized\n",
        "\n",
        "    pred = model.predict(resized_spectrogram)\n",
        "\n",
        "    total_spect.append(resized_spectrogram)\n",
        "    y_pred.append(pred)\n",
        "\n",
        "    y_true.append(stutter)\n",
        "\n",
        "  test = np.array(total_spect)\n",
        "\n",
        "\n",
        "  return [y_true, y_pred]"
      ],
      "metadata": {
        "id": "TXzw_Bpvv7NS"
      },
      "execution_count": 75,
      "outputs": []
    },
    {
      "cell_type": "code",
      "execution_count": 76,
      "metadata": {
        "id": "MptiKPCEAR47"
      },
      "outputs": [],
      "source": [
        "def test_model(test_sample, model, name):\n",
        "  if name == \"svm\":\n",
        "    return test_svm(test_sample, model)\n",
        "  else: # model name is cnn\n",
        "    return test_cnn(test_sample, model)"
      ]
    },
    {
      "cell_type": "code",
      "execution_count": 77,
      "metadata": {
        "id": "M3SOU24zAiTz"
      },
      "outputs": [],
      "source": [
        "from sklearn.metrics import confusion_matrix\n",
        "\n",
        "name = \"cnn\"\n",
        "\n",
        "def confusion(ys):\n",
        "  y_true, y_pred = ys[0], ys[1]\n",
        "\n",
        "  confusion = confusion_matrix(y_true, y_pred)\n",
        "\n",
        "  # print(confusion) #[[TP, FP][FN, TN]]\n",
        "  return confusion\n",
        "\n",
        "\n",
        "import matplotlib.pyplot as plt\n",
        "from sklearn import metrics\n",
        "def roc(ys):\n",
        "\n",
        "  y_true, y_pred = ys[0], ys[1]\n",
        "\n",
        "  fpr, tpr, threshold = metrics.roc_curve(y_true, y_pred)\n",
        "  roc_auc = metrics.auc(fpr, tpr)\n",
        "\n",
        "  plt.plot(fpr,tpr)\n",
        "  plt.ylabel('True Positive Rate')\n",
        "  plt.xlabel('False Positive Rate')\n",
        "  plt.title('ROC Curve')\n",
        "  plt.show()"
      ]
    },
    {
      "cell_type": "markdown",
      "source": [
        "### Results of CNN"
      ],
      "metadata": {
        "id": "mpHOEq9bWknU"
      }
    },
    {
      "cell_type": "code",
      "execution_count": null,
      "metadata": {
        "id": "aX9GQYV1Aj3K"
      },
      "outputs": [],
      "source": [
        "name = \"cnn\"\n",
        "ys = test_model(test_sample, model_cnn, name)\n",
        "y_true = ys[0]\n",
        "y_pred = [1 if prediction > 0.5 else 0 for prediction in ys[1]]\n",
        "\n",
        "ys = [y_true, y_pred]"
      ]
    },
    {
      "cell_type": "code",
      "source": [
        "print(\"Classification Report:\\n\", classification_report(y_true, y_pred))\n",
        "print(\"Confusion Matrix:\\n\", confusion_matrix(y_true, y_pred))\n",
        "roc(ys)"
      ],
      "metadata": {
        "colab": {
          "base_uri": "https://localhost:8080/",
          "height": 698
        },
        "id": "a9poCV_DWvL9",
        "outputId": "f14fe5f0-6688-4c40-a203-f2222437f5ad"
      },
      "execution_count": 79,
      "outputs": [
        {
          "output_type": "stream",
          "name": "stdout",
          "text": [
            "Classification Report:\n",
            "               precision    recall  f1-score   support\n",
            "\n",
            "         0.0       0.51      0.48      0.50       491\n",
            "         1.0       0.58      0.61      0.60       577\n",
            "\n",
            "    accuracy                           0.55      1068\n",
            "   macro avg       0.55      0.55      0.55      1068\n",
            "weighted avg       0.55      0.55      0.55      1068\n",
            "\n",
            "Confusion Matrix:\n",
            " [[236 255]\n",
            " [224 353]]\n"
          ]
        },
        {
          "output_type": "display_data",
          "data": {
            "text/plain": [
              "<Figure size 640x480 with 1 Axes>"
            ],
            "image/png": "[encoded data removed]"
          },
          "metadata": {}
        }
      ]
    },
    {
      "cell_type": "markdown",
      "source": [
        "### Result of SVM"
      ],
      "metadata": {
        "id": "ZoQ5Ja3YWudE"
      }
    },
    {
      "cell_type": "code",
      "source": [
        "name = \"svm\"\n",
        "ys = test_model(test_sample, model_svm, name)\n",
        "y_true, y_pred = ys[0], ys[1]"
      ],
      "metadata": {
        "id": "R5a0GwC8WyOi"
      },
      "execution_count": 30,
      "outputs": []
    },
    {
      "cell_type": "code",
      "source": [
        "print(\"Classification Report:\\n\", classification_report(y_true, y_pred))\n",
        "print(\"Confusion Matrix:\\n\", confusion_matrix(y_true, y_pred))\n",
        "roc(ys)"
      ],
      "metadata": {
        "id": "v0wzZKEwXUsp",
        "colab": {
          "base_uri": "https://localhost:8080/",
          "height": 698
        },
        "outputId": "48d27126-bb90-47d6-bb7d-ebe2fba6d6d0"
      },
      "execution_count": 31,
      "outputs": [
        {
          "output_type": "stream",
          "name": "stdout",
          "text": [
            "Classification Report:\n",
            "               precision    recall  f1-score   support\n",
            "\n",
            "         0.0       0.49      0.60      0.54       491\n",
            "         1.0       0.58      0.47      0.52       577\n",
            "\n",
            "    accuracy                           0.53      1068\n",
            "   macro avg       0.54      0.54      0.53      1068\n",
            "weighted avg       0.54      0.53      0.53      1068\n",
            "\n",
            "Confusion Matrix:\n",
            " [[296 195]\n",
            " [307 270]]\n"
          ]
        },
        {
          "output_type": "display_data",
          "data": {
            "text/plain": [
              "<Figure size 640x480 with 1 Axes>"
            ],
            "image/png": "[encoded data removed]"
          },
          "metadata": {}
        }
      ]
    }
  ],
  "metadata": {
    "colab": {
      "provenance": [],
      "authorship_tag": "ABX9TyP/pvtpSMEP1tnCIo6JtH7Z",
      "include_colab_link": true
    },
    "kernelspec": {
      "display_name": "Python 3",
      "name": "python3"
    },
    "language_info": {
      "name": "python"
    }
  },
  "nbformat": 4,
  "nbformat_minor": 0
}