{
  "cells": [
    {
      "cell_type": "markdown",
      "metadata": {
        "id": "view-in-github",
        "colab_type": "text"
      },
      "source": [
        "<a href=\"https://colab.research.google.com/github/APre203/MLTopic1/blob/main/StutterClassification-2.ipynb\" target=\"_parent\"><img src=\"https://colab.research.google.com/assets/colab-badge.svg\" alt=\"Open In Colab\"/></a>"
      ]
    },
    {
      "cell_type": "code",
      "execution_count": 1,
      "metadata": {
        "colab": {
          "base_uri": "https://localhost:8080/"
        },
        "id": "rFfxptau54Q3",
        "outputId": "54c04c9f-df18-4f7f-df46-cf13ed3f2922"
      },
      "outputs": [
        {
          "output_type": "stream",
          "name": "stdout",
          "text": [
            "Mounted at /content/drive\n"
          ]
        }
      ],
      "source": [
        "from google.colab import drive\n",
        "drive.mount('/content/drive')\n"
      ]
    },
    {
      "cell_type": "code",
      "execution_count": 2,
      "metadata": {
        "colab": {
          "base_uri": "https://localhost:8080/"
        },
        "id": "m77GTo-5ZnBq",
        "outputId": "93fd4644-d165-47c0-901f-06939397ffb2"
      },
      "outputs": [
        {
          "output_type": "stream",
          "name": "stdout",
          "text": [
            "Collecting pydub\n",
            "  Downloading pydub-0.25.1-py2.py3-none-any.whl (32 kB)\n",
            "Installing collected packages: pydub\n",
            "Successfully installed pydub-0.25.1\n"
          ]
        }
      ],
      "source": [
        "pip install pydub"
      ]
    },
    {
      "cell_type": "markdown",
      "metadata": {
        "id": "L6nNZwEAW0sZ"
      },
      "source": [
        "### Downloaded Full Audio Files"
      ]
    },
    {
      "cell_type": "code",
      "execution_count": 3,
      "metadata": {
        "id": "E4lfAiA1Ze06"
      },
      "outputs": [],
      "source": [
        "import os\n",
        "import pathlib\n",
        "import requests\n",
        "# from pydub import AudioSegment\n",
        "from pydub import AudioSegment\n",
        "import numpy as np\n",
        "import argparse\n",
        "\n",
        "def wav_converter(episodes, wavs):\n",
        "\n",
        "  episode_uri = episodes\n",
        "  wav_dir = wavs\n",
        "\n",
        "  # Load episode data\n",
        "  table = np.loadtxt(episode_uri, dtype=str, delimiter=',')\n",
        "\n",
        "  urls = table[:, 2]\n",
        "  n_items = len(urls)\n",
        "\n",
        "  audio_types = [\".mp3\", \".m4a\", \".mp4\"]\n",
        "\n",
        "  for i in range(n_items):\n",
        "      # Get show/episode IDs\n",
        "      show_abrev = table[i, -2].strip()\n",
        "      ep_idx = table[i, -1]\n",
        "      episode_url = table[i, 2]\n",
        "      # print(episode_url, ep_idx, show_abrev) # (https://media.talkbank.org/fluency/Voices-AWS/interview/46ma.mp4  010  FluencyBank)\n",
        "\n",
        "      # Check file extension\n",
        "      ext = ''\n",
        "      for ext in audio_types:\n",
        "          if ext in episode_url:\n",
        "              break\n",
        "\n",
        "      # Ensure the base folder exists for this episode\n",
        "      episode_dir = pathlib.Path(f\"{wav_dir}/{show_abrev}/\")\n",
        "      # print(episode_dir)\n",
        "      os.makedirs(episode_dir, exist_ok=True)\n",
        "\n",
        "      # Get file paths\n",
        "      audio_path_orig = pathlib.Path(f\"{episode_dir}/{ep_idx}{ext}\")\n",
        "      wav_path = pathlib.Path(f\"{episode_dir}/{ep_idx}.wav\")\n",
        "      # print(audio_path_orig, wav_path) #\"C:\\Users\\andrew\\Downloads\\ml-stuttering-events-dataset\\wav\\ FluencyBank\\ 010.mp4\"\n",
        "\n",
        "      # Download raw audio file\n",
        "      if not os.path.exists(audio_path_orig):\n",
        "          response = requests.get(episode_url)\n",
        "          with open(audio_path_orig, 'wb') as audio_file:\n",
        "              audio_file.write(response.content)\n",
        "\n",
        "      # Convert to 16khz mono wav file\n",
        "      # print(audio_path_orig)\n",
        "      audio = AudioSegment.from_file(audio_path_orig) #error here\n",
        "      audio = audio.set_frame_rate(16000).set_channels(1)\n",
        "      audio.export(wav_path, format=\"wav\")\n",
        "\n",
        "      os.remove(audio_path_orig)"
      ]
    },
    {
      "cell_type": "code",
      "execution_count": 52,
      "metadata": {
        "id": "jYc1dergbBK_"
      },
      "outputs": [],
      "source": [
        "wav_converter(\"/content/drive/MyDrive/ml-stuttering-events-dataset/fluencybank_episodes2.csv\", \"wav\")"
      ]
    },
    {
      "cell_type": "markdown",
      "metadata": {
        "id": "gPiU__v1W8lP"
      },
      "source": [
        "### Divided Audio Files Into 3 Second Clips"
      ]
    },
    {
      "cell_type": "code",
      "execution_count": 64,
      "metadata": {
        "id": "2KJZvCw-dhER"
      },
      "outputs": [],
      "source": [
        "\n",
        "import os\n",
        "import pathlib\n",
        "import subprocess\n",
        "\n",
        "import numpy as np\n",
        "import pandas as pd\n",
        "from scipy.io import wavfile\n",
        "\n",
        "import argparse\n",
        "def clip_maker(labels, wavs, clips):\n",
        "\n",
        "  label_file = labels\n",
        "  data_dir = wavs\n",
        "  output_dir = clips\n",
        "\n",
        "\n",
        "  # Load label/clip file\n",
        "  data = pd.read_csv(label_file, dtype={\"EpId\":str})\n",
        "\n",
        "  # Get label columns from data file\n",
        "  shows = data.Show\n",
        "  episodes = data.EpId\n",
        "  clip_idxs = data.ClipId\n",
        "  starts = data.Start\n",
        "  stops = data.Stop\n",
        "  labels = data.iloc[:,5:].values\n",
        "\n",
        "  n_items = len(shows)\n",
        "\n",
        "  loaded_wav = \"\"\n",
        "  cur_iter = range(n_items)\n",
        "  for i in cur_iter:\n",
        "    clip_idx = clip_idxs[i]\n",
        "    show_abrev = shows[i]\n",
        "    episode = episodes[i].strip()\n",
        "\n",
        "    # Setup paths\n",
        "    wav_path = f\"{data_dir}/{shows[i]}/{episode}.wav\"\n",
        "    # print(wav_path)\n",
        "    clip_dir = pathlib.Path(f\"{output_dir}/{show_abrev}/{episode}/\")\n",
        "    clip_path = f\"{clip_dir}/{shows[i]}_{episode}_{clip_idx}.wav\"\n",
        "\n",
        "    if not os.path.exists(wav_path):\n",
        "      print(\"Missing\", wav_path)\n",
        "      continue\n",
        "\n",
        "    # Verify clip directory exists\n",
        "    os.makedirs(clip_dir, exist_ok=True)\n",
        "\n",
        "    # Load audio. For efficiency reasons don't reload if we've already open the file.\n",
        "    if wav_path != loaded_wav:\n",
        "      sample_rate, audio = wavfile.read(wav_path)\n",
        "      assert sample_rate == 16000, \"Sample rate must be 16 khz\"\n",
        "\n",
        "      # Keep track of the open file\n",
        "      loaded_wav = wav_path\n",
        "\n",
        "    # Save clip to file\n",
        "    clip = audio[starts[i]:stops[i]]\n",
        "    wavfile.write(clip_path, sample_rate, clip)\n"
      ]
    },
    {
      "cell_type": "code",
      "execution_count": 53,
      "metadata": {
        "id": "laiROH50eMEO"
      },
      "outputs": [],
      "source": [
        "clip_maker(\"/content/drive/MyDrive/ml-stuttering-events-dataset/fluencybank_labels2.csv\", \"wav\", \"clips\")"
      ]
    },
    {
      "cell_type": "markdown",
      "metadata": {
        "id": "d0CTjWCCXCT7"
      },
      "source": [
        "### Building Model Section / Preprocessing"
      ]
    },
    {
      "cell_type": "code",
      "execution_count": 102,
      "metadata": {
        "id": "_lnxnv6EWP9Z"
      },
      "outputs": [],
      "source": [
        "import librosa\n",
        "import librosa.feature\n",
        "import soundfile as sf\n",
        "# p = \"/content/clips/FluencyBank/10/\"\n",
        "def mel_spectrogram(filename, path):\n",
        "  # try:\n",
        "    y, sr = sf.read(path + filename)\n",
        "\n",
        "    mfccs = mfcc_converter(y, sr)\n",
        "\n",
        "    # y, sr = librosa.load(path + filename)\n",
        "    window_size = 1024\n",
        "    hop_length = 256\n",
        "\n",
        "    # Calculate time_steps and frequency_bins\n",
        "    time_steps = int((len(y) - window_size) / hop_length) + 1\n",
        "    frequency_bins = window_size // 2\n",
        "\n",
        "    mel_spectrogram = librosa.feature.melspectrogram(y=y, sr=sr, n_fft=window_size, hop_length=hop_length)\n",
        "\n",
        "    return [mel_spectrogram, mfccs]\n",
        "  # except:\n",
        "  #   return None\n",
        "\n",
        "def mfcc_converter(audio, sr):\n",
        "  # Compute MFCCs\n",
        "  mfccs = librosa.feature.mfcc(y=audio, sr=sr, n_mfcc=13, hop_length=512, n_fft=2048)\n",
        "  return mfccs\n",
        "\n",
        "csv_file = \"/content/drive/MyDrive/ml-stuttering-events-dataset/fluencybank_labels2.csv\"\n",
        "csv_df = pd.read_csv(csv_file, delimiter=\",\", encoding='utf-8')\n",
        "\n",
        "def file_to_df(csv, numb, clip_filename):\n",
        "\n",
        "  # new_df = pd.DataFrame(columns=df.columns)  # Create an empty DataFrame\n",
        "  new_df = pd.DataFrame(columns=csv_df.columns)\n",
        "  n = 0  # Initialize a counter\n",
        "  for index, row in csv.iterrows():\n",
        "    # if n == numb:\n",
        "\n",
        "    #     break  # Stop when n reaches the desired number\n",
        "    path_name = f'{row[\"Show\"]}_{row[\"EpId\"]}_{row[\"ClipId\"]}.wav'\n",
        "    p = f'/content/{clip_filename}/FluencyBank/{row[\"EpId\"]}/'\n",
        "    both = mel_spectrogram(path_name, p)\n",
        "    spectro, mfcc = both[0], both[1]\n",
        "    if spectro is not None:\n",
        "      if row[\"NoStutteredWords\"] >= 2:\n",
        "        row[\"Stutter\"] = 0 # didnt stutter\n",
        "      else:\n",
        "        row[\"Stutter\"] = 1 # did stutter\n",
        "      row[\"spect\"] = spectro\n",
        "      row[\"mfcc\"] = mfcc\n",
        "      new_df = new_df.append(row, ignore_index=True)  # Append the new row to the new DataFrame TRY CHANGEING IT TO pd.concat\n",
        "      retval_df = new_df\n",
        "      # if n == 0:\n",
        "\n",
        "      #   print(row)\n",
        "      #   print(new_df)\n",
        "      #   n+= 1\n",
        "      # retval_df = pd.concat([row,new_df])\n",
        "      # n += 1  # Increment the counter\n",
        "  return retval_df"
      ]
    },
    {
      "cell_type": "code",
      "execution_count": null,
      "metadata": {
        "id": "TdDhRnySLQ6f"
      },
      "outputs": [],
      "source": [
        "# print(mel_spectrogram(\"FluencyBank_10_0.wav\",p))\n",
        "csv_sample = file_to_df(csv_df,0, \"clips\")"
      ]
    },
    {
      "cell_type": "code",
      "execution_count": 104,
      "metadata": {
        "id": "LN6Ft6D58M8Z"
      },
      "outputs": [],
      "source": [
        "import cv2\n",
        "width, height = 128, 128\n",
        "\n",
        "resized_spectrograms = []\n",
        "resized_mfccs = []\n",
        "\n",
        "for spectrogram,mfcc in zip(csv_sample[\"spect\"], csv_sample[\"mfcc\"]):\n",
        "    # Resizing spectrogram to the desired shape (128x128)\n",
        "    resized_spectrogram = cv2.resize(spectrogram, (width, height))\n",
        "    resized_spectrograms.append(resized_spectrogram)\n",
        "    resized_mfcc = cv2.resize(mfcc, (width, height))\n",
        "    resized_mfccs.append(resized_mfcc)\n",
        "\n",
        "data = np.array(resized_mfccs) #trying with mfcc\n",
        "labels = np.array(csv_sample[\"Stutter\"]) # 0 -> didnt, 1 -> did"
      ]
    },
    {
      "cell_type": "code",
      "execution_count": 105,
      "metadata": {
        "id": "TPvnbTRe8PTb"
      },
      "outputs": [],
      "source": [
        "from sklearn.model_selection import train_test_split\n",
        "X_train, X_test, y_train, y_test = train_test_split(data, labels, test_size=0.2, random_state=42)"
      ]
    },
    {
      "cell_type": "code",
      "execution_count": 106,
      "metadata": {
        "id": "gqMfj49u8Rpu",
        "colab": {
          "base_uri": "https://localhost:8080/"
        },
        "outputId": "e9ebeafb-88a3-4d82-c186-c0105e032054"
      },
      "outputs": [
        {
          "output_type": "stream",
          "name": "stdout",
          "text": [
            "Epoch 1/18\n",
            "66/66 [==============================] - 27s 401ms/step - loss: 17.5898 - accuracy: 0.5663 - val_loss: 1.4710 - val_accuracy: 0.5363\n",
            "Epoch 2/18\n",
            "66/66 [==============================] - 24s 368ms/step - loss: 1.4113 - accuracy: 0.6422 - val_loss: 1.7139 - val_accuracy: 0.4962\n",
            "Epoch 3/18\n",
            "66/66 [==============================] - 26s 389ms/step - loss: 1.0978 - accuracy: 0.6789 - val_loss: 1.2522 - val_accuracy: 0.5821\n",
            "Epoch 4/18\n",
            "66/66 [==============================] - 25s 384ms/step - loss: 0.7884 - accuracy: 0.7214 - val_loss: 2.0867 - val_accuracy: 0.5782\n",
            "Epoch 5/18\n",
            "66/66 [==============================] - 23s 349ms/step - loss: 0.6427 - accuracy: 0.7681 - val_loss: 1.1942 - val_accuracy: 0.6107\n",
            "Epoch 6/18\n",
            "66/66 [==============================] - 25s 378ms/step - loss: 2.9905 - accuracy: 0.6837 - val_loss: 1.3135 - val_accuracy: 0.5496\n",
            "Epoch 7/18\n",
            "66/66 [==============================] - 26s 396ms/step - loss: 1.1487 - accuracy: 0.7457 - val_loss: 1.1908 - val_accuracy: 0.5725\n",
            "Epoch 8/18\n",
            "66/66 [==============================] - 27s 406ms/step - loss: 0.3230 - accuracy: 0.8607 - val_loss: 1.2144 - val_accuracy: 0.5782\n",
            "Epoch 9/18\n",
            "66/66 [==============================] - 26s 385ms/step - loss: 0.3231 - accuracy: 0.8583 - val_loss: 1.3937 - val_accuracy: 0.5382\n",
            "Epoch 10/18\n",
            "66/66 [==============================] - 26s 397ms/step - loss: 0.3172 - accuracy: 0.8602 - val_loss: 1.2071 - val_accuracy: 0.5859\n",
            "Epoch 11/18\n",
            "66/66 [==============================] - 26s 396ms/step - loss: 0.2310 - accuracy: 0.9036 - val_loss: 1.2076 - val_accuracy: 0.5859\n",
            "Epoch 12/18\n",
            "66/66 [==============================] - 25s 385ms/step - loss: 0.2661 - accuracy: 0.8927 - val_loss: 1.2125 - val_accuracy: 0.5782\n",
            "Epoch 13/18\n",
            "66/66 [==============================] - 26s 389ms/step - loss: 0.1643 - accuracy: 0.9432 - val_loss: 1.2092 - val_accuracy: 0.5821\n",
            "Epoch 14/18\n",
            "66/66 [==============================] - 27s 403ms/step - loss: 0.1810 - accuracy: 0.9265 - val_loss: 1.3503 - val_accuracy: 0.5630\n",
            "Epoch 15/18\n",
            "66/66 [==============================] - 28s 422ms/step - loss: 0.1394 - accuracy: 0.9609 - val_loss: 1.4105 - val_accuracy: 0.6069\n",
            "Epoch 16/18\n",
            "66/66 [==============================] - 26s 398ms/step - loss: 0.1206 - accuracy: 0.9676 - val_loss: 1.5660 - val_accuracy: 0.5973\n",
            "Epoch 17/18\n",
            "66/66 [==============================] - 24s 367ms/step - loss: 0.1172 - accuracy: 0.9676 - val_loss: 1.5687 - val_accuracy: 0.5897\n",
            "Epoch 18/18\n",
            "66/66 [==============================] - 26s 398ms/step - loss: 0.1122 - accuracy: 0.9680 - val_loss: 1.4575 - val_accuracy: 0.5802\n"
          ]
        },
        {
          "output_type": "stream",
          "name": "stderr",
          "text": [
            "/usr/local/lib/python3.10/dist-packages/keras/src/engine/training.py:3000: UserWarning: You are saving your model as an HDF5 file via `model.save()`. This file format is considered legacy. We recommend using instead the native Keras format, e.g. `model.save('my_model.keras')`.\n",
            "  saving_api.save_model(\n"
          ]
        }
      ],
      "source": [
        "import tensorflow as tf\n",
        "from tensorflow.keras import layers, models\n",
        "\n",
        "# Build a CNN model\n",
        "model = models.Sequential([\n",
        "    layers.Input(shape=(height, width, 1)),  # Input shape matches the resized spectrogram dimensions\n",
        "    layers.Conv2D(32, (3, 3), activation='relu'),\n",
        "    layers.MaxPooling2D((2, 2)),\n",
        "    layers.Flatten(),\n",
        "    layers.Dense(64, activation='relu'),\n",
        "    layers.Dense(2, activation='softmax')  # 2 output classes: stutter and not-stutter\n",
        "])\n",
        "\n",
        "# Compile the model\n",
        "model.compile(optimizer='adam',\n",
        "              loss='sparse_categorical_crossentropy',\n",
        "              metrics=['accuracy'])\n",
        "\n",
        "# Train the model\n",
        "model.fit(X_train, y_train, epochs=18, validation_data=(X_test, y_test))\n",
        "\n",
        "model.save(\"/content/drive/MyDrive/stutter_model.h5\")"
      ]
    },
    {
      "cell_type": "markdown",
      "metadata": {
        "id": "ToVIRHfG_Kx0"
      },
      "source": [
        "### Converting Test Cases"
      ]
    },
    {
      "cell_type": "code",
      "execution_count": 36,
      "metadata": {
        "id": "-NSmdhzz-4fK"
      },
      "outputs": [],
      "source": [
        "wav_converter(\"/content/drive/MyDrive/ml-stuttering-events-dataset/fluencybank_episodes_test.csv\", \"test\")\n",
        "clip_maker(\"/content/drive/MyDrive/ml-stuttering-events-dataset/fluencybank_labels_test.csv\", \"test\", \"test_clips\")"
      ]
    },
    {
      "cell_type": "markdown",
      "metadata": {
        "id": "LMy_eL6J_P1f"
      },
      "source": [
        "### Testing Test Cases"
      ]
    },
    {
      "cell_type": "code",
      "execution_count": 47,
      "metadata": {
        "id": "lasNH90PAD4c"
      },
      "outputs": [],
      "source": [
        "def didnt_or_did(n1,n2): # 0 for noStutter 1 for Stutter\n",
        "  if n1 > n2:\n",
        "    return 0\n",
        "  return 1"
      ]
    },
    {
      "cell_type": "code",
      "execution_count": null,
      "metadata": {
        "id": "hOWEOWgm8TTL"
      },
      "outputs": [],
      "source": [
        "test_file = \"/content/drive/MyDrive/ml-stuttering-events-dataset/fluencybank_labels_test.csv\"\n",
        "test_df = pd.read_csv(test_file, delimiter=\",\", encoding='utf-8')\n",
        "test_sample = file_to_df(test_df, 0, \"test_clips\") #2nd parameter doesnt matter total tests about 600 results"
      ]
    },
    {
      "cell_type": "code",
      "execution_count": null,
      "metadata": {
        "id": "MptiKPCEAR47"
      },
      "outputs": [],
      "source": [
        "y_true = []\n",
        "y_pred = []\n",
        "for s, m, g in zip(test_sample[\"spect\"], test_sample[\"mfcc\"], test_sample[\"Stutter\"]):\n",
        "  width, height = 128, 128\n",
        "  resized_spectrogram = cv2.resize(s, (width, height))\n",
        "  resized_mfcc = cv2.resize(m, (width, height))\n",
        "\n",
        "  prediction = model.predict(np.expand_dims(resized_mfcc, axis=0)) #testing mfcc\n",
        "\n",
        "  y_true.append(g)\n",
        "  y_pred.append(didnt_or_did(prediction[0][0],prediction[0][1]))\n"
      ]
    },
    {
      "cell_type": "code",
      "execution_count": 109,
      "metadata": {
        "id": "M3SOU24zAiTz",
        "colab": {
          "base_uri": "https://localhost:8080/"
        },
        "outputId": "7603e0f7-db4f-4610-b735-c529c9e7809b"
      },
      "outputs": [
        {
          "output_type": "stream",
          "name": "stdout",
          "text": [
            "[[340 151]\n",
            " [351 226]]\n"
          ]
        }
      ],
      "source": [
        "from sklearn.metrics import confusion_matrix\n",
        "\n",
        "confusion = confusion_matrix(y_true, y_pred)\n",
        "\n",
        "print(confusion) #[[TP, FP][FN, TN]]"
      ]
    },
    {
      "cell_type": "code",
      "execution_count": 110,
      "metadata": {
        "id": "aX9GQYV1Aj3K",
        "colab": {
          "base_uri": "https://localhost:8080/",
          "height": 472
        },
        "outputId": "7a391719-96db-4799-e17e-e1164ec4fb9b"
      },
      "outputs": [
        {
          "output_type": "display_data",
          "data": {
            "text/plain": [
              "<Figure size 640x480 with 1 Axes>"
            ],
            "image/png": "[encoded data removed]"
          },
          "metadata": {}
        }
      ],
      "source": [
        "import matplotlib.pyplot as plt\n",
        "from sklearn import metrics\n",
        "\n",
        "fpr, tpr, threshold = metrics.roc_curve(y_true, y_pred)\n",
        "roc_auc = metrics.auc(fpr, tpr)\n",
        "\n",
        "plt.plot(fpr,tpr)\n",
        "plt.ylabel('True Positive Rate')\n",
        "plt.xlabel('False Positive Rate')\n",
        "plt.title('ROC Curve')\n",
        "plt.show()"
      ]
    }
  ],
  "metadata": {
    "colab": {
      "provenance": [],
      "collapsed_sections": [
        "L6nNZwEAW0sZ",
        "gPiU__v1W8lP"
      ],
      "authorship_tag": "ABX9TyMo525FNVfhV9lGxNAmUGJR",
      "include_colab_link": true
    },
    "kernelspec": {
      "display_name": "Python 3",
      "name": "python3"
    },
    "language_info": {
      "name": "python"
    }
  },
  "nbformat": 4,
  "nbformat_minor": 0
}